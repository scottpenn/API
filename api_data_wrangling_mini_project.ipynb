{
 "cells": [
  {
   "cell_type": "markdown",
   "metadata": {},
   "source": [
    "This exercise will require you to pull some data from the Qunadl API. Qaundl is currently the most widely used aggregator of financial market data."
   ]
  },
  {
   "cell_type": "markdown",
   "metadata": {},
   "source": [
    "As a first step, you will need to register a free account on the http://www.quandl.com website."
   ]
  },
  {
   "cell_type": "markdown",
   "metadata": {},
   "source": [
    "After you register, you will be provided with a unique API key, that you should store:"
   ]
  },
  {
   "cell_type": "code",
   "execution_count": 1,
   "metadata": {},
   "outputs": [],
   "source": [
    "# Store the API key as a string - according to PEP8, constants are always named in all upper case\n",
    "API_KEY = ''"
   ]
  },
  {
   "cell_type": "markdown",
   "metadata": {},
   "source": [
    "Qaundl has a large number of data sources, but, unfortunately, most of them require a Premium subscription. Still, there are also a good number of free datasets."
   ]
  },
  {
   "cell_type": "markdown",
   "metadata": {},
   "source": [
    "For this mini project, we will focus on equities data from the Frankfurt Stock Exhange (FSE), which is available for free. We'll try and analyze the stock prices of a company called Carl Zeiss Meditec, which manufactures tools for eye examinations, as well as medical lasers for laser eye surgery: https://www.zeiss.com/meditec/int/home.html. The company is listed under the stock ticker AFX_X."
   ]
  },
  {
   "cell_type": "markdown",
   "metadata": {},
   "source": [
    "You can find the detailed Quandl API instructions here: https://docs.quandl.com/docs/time-series"
   ]
  },
  {
   "cell_type": "markdown",
   "metadata": {},
   "source": [
    "While there is a dedicated Python package for connecting to the Quandl API, we would prefer that you use the *requests* package, which can be easily downloaded using *pip* or *conda*. You can find the documentation for the package here: http://docs.python-requests.org/en/master/ "
   ]
  },
  {
   "cell_type": "markdown",
   "metadata": {},
   "source": [
    "Finally, apart from the *requests* package, you are encouraged to not use any third party Python packages, such as *pandas*, and instead focus on what's available in the Python Standard Library (the *collections* module might come in handy: https://pymotw.com/3/collections/ ).\n",
    "Also, since you won't have access to DataFrames, you are encouraged to us Python's native data structures - preferably dictionaries, though some questions can also be answered using lists.\n",
    "You can read more on these data structures here: https://docs.python.org/3/tutorial/datastructures.html"
   ]
  },
  {
   "cell_type": "markdown",
   "metadata": {},
   "source": [
    "Keep in mind that the JSON responses you will be getting from the API map almost one-to-one to Python's dictionaries. Unfortunately, they can be very nested, so make sure you read up on indexing dictionaries in the documentation provided above."
   ]
  },
  {
   "cell_type": "code",
   "execution_count": 2,
   "metadata": {},
   "outputs": [],
   "source": [
    "# First, import the relevant modules\n",
    "import requests"
   ]
  },
  {
   "cell_type": "code",
   "execution_count": 3,
   "metadata": {},
   "outputs": [],
   "source": [
    "# Now, call the Quandl API and pull out a small sample of the data (only one day) to get a glimpse\n",
    "# into the JSON structure that will be returned\n",
    "sample = requests.get(f'https://www.quandl.com/api/v3/datasets/FSE/AFX_X/data.json?limit=1&api_key={API_KEY}')"
   ]
  },
  {
   "cell_type": "code",
   "execution_count": 4,
   "metadata": {},
   "outputs": [
    {
     "data": {
      "text/plain": [
       "'{\"dataset_data\":{\"limit\":1,\"transform\":null,\"column_index\":null,\"column_names\":[\"Date\",\"Open\",\"High\",\"Low\",\"Close\",\"Change\",\"Traded Volume\",\"Turnover\",\"Last Price of the Day\",\"Daily Traded Units\",\"Daily Turnover\"],\"start_date\":\"2000-06-07\",\"end_date\":\"2019-10-30\",\"frequency\":\"daily\",\"data\":[[\"2019-10-30\",96.45,98.85,96.0,98.05,null,101101.0,9910827.0,null,null,null]],\"collapse\":null,\"order\":null}}'"
      ]
     },
     "execution_count": 4,
     "metadata": {},
     "output_type": "execute_result"
    }
   ],
   "source": [
    "# Inspect the JSON structure of the object you created, and take note of how nested it is,\n",
    "# as well as the overall structure\n",
    "sample.text"
   ]
  },
  {
   "cell_type": "markdown",
   "metadata": {},
   "source": [
    "These are your tasks for this mini project:\n",
    "\n",
    "1. Collect data from the Franfurt Stock Exchange, for the ticker AFX_X, for the whole year 2017 (keep in mind that the date format is YYYY-MM-DD).\n",
    "2. Convert the returned JSON object into a Python dictionary.\n",
    "3. Calculate what the highest and lowest opening prices were for the stock in this period.\n",
    "4. What was the largest change in any one day (based on High and Low price)?\n",
    "5. What was the largest change between any two days (based on Closing Price)?\n",
    "6. What was the average daily trading volume during this year?\n",
    "7. (Optional) What was the median trading volume during this year. (Note: you may need to implement your own function for calculating the median.)"
   ]
  },
  {
   "cell_type": "code",
   "execution_count": 5,
   "metadata": {},
   "outputs": [
    {
     "data": {
      "text/plain": [
       "<Response [200]>"
      ]
     },
     "execution_count": 5,
     "metadata": {},
     "output_type": "execute_result"
    }
   ],
   "source": [
    "'''\n",
    "1. Collect data from the Franfurt Stock Exchange, for the ticker \n",
    "AFX_X, for the whole year 2017 (keep in mind that the date format is YYYY-MM-DD).\n",
    "'''\n",
    "\n",
    "# Get the date using an API call.\n",
    "# I'll split up the call into multiple sections for readability.\n",
    "start_date = '2017-01-01'\n",
    "end_date = '2017-12-31'\n",
    "dataset_url = 'https://www.quandl.com/api/v3/datasets/FSE/AFX_X/data.json'\n",
    "api_call = f'{dataset_url}?start_date={start_date}&end_date={end_date}&api_key={API_KEY}'\n",
    "\n",
    "# Get the JSON data using the requests package\n",
    "response = requests.get(api_call)\n",
    "response"
   ]
  },
  {
   "cell_type": "code",
   "execution_count": 6,
   "metadata": {},
   "outputs": [
    {
     "data": {
      "text/plain": [
       "dict"
      ]
     },
     "execution_count": 6,
     "metadata": {},
     "output_type": "execute_result"
    }
   ],
   "source": [
    "'''\n",
    "2. Convert the returned JSON object into a Python dictionary.\n",
    "'''\n",
    "\n",
    "# Luckily, the requests library has a function json() that does just that.\n",
    "data = response.json()\n",
    "type(data)"
   ]
  },
  {
   "cell_type": "code",
   "execution_count": 7,
   "metadata": {
    "scrolled": true
   },
   "outputs": [
    {
     "data": {
      "text/plain": [
       "dict_keys(['dataset_data'])"
      ]
     },
     "execution_count": 7,
     "metadata": {},
     "output_type": "execute_result"
    }
   ],
   "source": [
    "# For future reference, I'll check out the keys of the returned dictionary.\n",
    "data.keys()"
   ]
  },
  {
   "cell_type": "code",
   "execution_count": 8,
   "metadata": {},
   "outputs": [
    {
     "data": {
      "text/plain": [
       "dict_keys(['limit', 'transform', 'column_index', 'column_names', 'start_date', 'end_date', 'frequency', 'data', 'collapse', 'order'])"
      ]
     },
     "execution_count": 8,
     "metadata": {},
     "output_type": "execute_result"
    }
   ],
   "source": [
    "# Seems like we need to go one level deeper.\n",
    "data['dataset_data'].keys()"
   ]
  },
  {
   "cell_type": "code",
   "execution_count": 9,
   "metadata": {
    "scrolled": true
   },
   "outputs": [
    {
     "data": {
      "text/plain": [
       "['Date',\n",
       " 'Open',\n",
       " 'High',\n",
       " 'Low',\n",
       " 'Close',\n",
       " 'Change',\n",
       " 'Traded Volume',\n",
       " 'Turnover',\n",
       " 'Last Price of the Day',\n",
       " 'Daily Traded Units',\n",
       " 'Daily Turnover']"
      ]
     },
     "execution_count": 9,
     "metadata": {},
     "output_type": "execute_result"
    }
   ],
   "source": [
    "# Finally I'll see what columns are in the dataset.\n",
    "data['dataset_data']['column_names']"
   ]
  },
  {
   "cell_type": "code",
   "execution_count": 10,
   "metadata": {},
   "outputs": [
    {
     "data": {
      "text/plain": [
       "53.11"
      ]
     },
     "execution_count": 10,
     "metadata": {},
     "output_type": "execute_result"
    }
   ],
   "source": [
    "'''\n",
    "3. Calculate what the highest and lowest opening prices were for the stock in this period.\n",
    "'''\n",
    "# First I'll need the price data.\n",
    "price_data = data['dataset_data']['data']\n",
    "\n",
    "# I'll also need the index of the opening prices column.\n",
    "open_index = data['dataset_data']['column_names'].index('Open')\n",
    "\n",
    "# A simple generator expression can be used to find the max value.\n",
    "max_opening_price = max(date[open_index] for date in price_data if date[open_index])\n",
    "max_opening_price"
   ]
  },
  {
   "cell_type": "code",
   "execution_count": 11,
   "metadata": {},
   "outputs": [],
   "source": [
    "# The minimum value."
   ]
  },
  {
   "cell_type": "code",
   "execution_count": 12,
   "metadata": {},
   "outputs": [
    {
     "data": {
      "text/plain": [
       "34.0"
      ]
     },
     "execution_count": 12,
     "metadata": {},
     "output_type": "execute_result"
    }
   ],
   "source": [
    "min_opening_price = min(date[open_index] for date in price_data if date[open_index])\n",
    "min_opening_price"
   ]
  },
  {
   "cell_type": "code",
   "execution_count": 13,
   "metadata": {},
   "outputs": [
    {
     "data": {
      "text/plain": [
       "2.8100000000000023"
      ]
     },
     "execution_count": 13,
     "metadata": {},
     "output_type": "execute_result"
    }
   ],
   "source": [
    "'''\n",
    "4. What was the largest change in any one day (based on High and Low price)?\n",
    "'''\n",
    "# For this problem I'll need the indexes of the High and Low price columns.\n",
    "high = data['dataset_data']['column_names'].index('High')\n",
    "low = data['dataset_data']['column_names'].index('Low')\n",
    "\n",
    "# A generator expression can then be used to find the largest one day price change.\n",
    "max_single_day_price_change = max(date[high] - date[low] for date in price_data)\n",
    "max_single_day_price_change"
   ]
  },
  {
   "cell_type": "code",
   "execution_count": 14,
   "metadata": {},
   "outputs": [
    {
     "data": {
      "text/plain": [
       "1.72"
      ]
     },
     "execution_count": 14,
     "metadata": {},
     "output_type": "execute_result"
    }
   ],
   "source": [
    "'''\n",
    "5. What was the largest change between any two days (based on Closing Price)?\n",
    "'''\n",
    "# Python dictionaries, unlike most language's dictionaries, are ordered by default as of Python 3.5.\n",
    "# However, assuming that the version of Python is older,\n",
    "# I will need another way to calculate inter-row operations.\n",
    "# There is a parameter found in the quandl API documentation that performs row to row calculations beforehand.\n",
    "\n",
    "# I'll update the api call to add the 'transform' parameter with a value of 'diff' to find row-on-row change.\n",
    "diff_api_call = f'{dataset_url}?transform=diff&start_date={start_date}&end_date={end_date}&api_key={API_KEY}'\n",
    "diff_response = requests.get(diff_api_call)\n",
    "diff_data = diff_response.json()\n",
    "\n",
    "# Now the price_data will contain the difference in value from the previous day. \n",
    "diff_price_data = diff_data['dataset_data']['data']\n",
    "close_index = diff_data['dataset_data']['column_names'].index('Close')\n",
    "\n",
    "# Another generator expression finds the maximum value.\n",
    "max_day_to_day_change = max(date[close_index] for date in diff_price_data)\n",
    "max_day_to_day_change"
   ]
  },
  {
   "cell_type": "code",
   "execution_count": 15,
   "metadata": {},
   "outputs": [
    {
     "data": {
      "text/plain": [
       "89124.33725490196"
      ]
     },
     "execution_count": 15,
     "metadata": {},
     "output_type": "execute_result"
    }
   ],
   "source": [
    "'''\n",
    "6. What was the average daily trading volume during this year?\n",
    "'''\n",
    "\n",
    "# I'll return to the original dataset for this problem. I will need the trading volume column index.\n",
    "price_data = data['dataset_data']['data']\n",
    "traded_volume = data['dataset_data']['column_names'].index('Traded Volume')\n",
    "\n",
    "# Divide the sum of values by the number of values to find the average.\n",
    "average_traded_volume = sum(date[traded_volume] for date in price_data) / len(price_data)\n",
    "average_traded_volume"
   ]
  },
  {
   "cell_type": "code",
   "execution_count": 16,
   "metadata": {},
   "outputs": [],
   "source": [
    "'''\n",
    "7. (Optional) What was the median trading volume during this year.\n",
    "(Note: you may need to implement your own function for calculating the median.)\n",
    "'''\n",
    "\n",
    "# To start with, I'll write up a general median function that will accept any iterable that can be sorted.\n",
    "# It does not accept generator expressions as they do not have a defined len() value\n",
    "def median(iterable):\n",
    "    # Guard against empty lists.\n",
    "    if not iterable:\n",
    "        return None\n",
    "    # Sort the data.\n",
    "    s = sorted(iterable)\n",
    "    # Find the middle value. The below expression works on both even and odd lengths.\n",
    "    middle = (s[(len(s) - 1) // 2] + s[len(s) // 2]) / 2\n",
    "    return middle\n",
    "\n",
    "# Let's run a few tests.\n",
    "assert median([5, 3, 2]) == 3\n",
    "assert median([4]) == 4\n",
    "assert median([8, 7, 8, 7]) == 7.5\n",
    "assert median([]) == None"
   ]
  },
  {
   "cell_type": "code",
   "execution_count": 17,
   "metadata": {},
   "outputs": [
    {
     "data": {
      "text/plain": [
       "76286.0"
      ]
     },
     "execution_count": 17,
     "metadata": {},
     "output_type": "execute_result"
    }
   ],
   "source": [
    "# Everything looks good, so I'll use it on the trading volume data for the solution.\n",
    "median_traded_volume = median([date[traded_volume] for date in price_data])\n",
    "median_traded_volume"
   ]
  },
  {
   "cell_type": "code",
   "execution_count": null,
   "metadata": {},
   "outputs": [],
   "source": []
  }
 ],
 "metadata": {
  "kernelspec": {
   "display_name": "Python 3",
   "language": "python",
   "name": "python3"
  },
  "language_info": {
   "codemirror_mode": {
    "name": "ipython",
    "version": 3
   },
   "file_extension": ".py",
   "mimetype": "text/x-python",
   "name": "python",
   "nbconvert_exporter": "python",
   "pygments_lexer": "ipython3",
   "version": "3.7.3"
  }
 },
 "nbformat": 4,
 "nbformat_minor": 2
}
